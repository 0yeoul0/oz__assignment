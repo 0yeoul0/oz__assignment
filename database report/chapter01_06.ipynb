{
 "cells": [
  {
   "cell_type": "markdown",
   "metadata": {},
   "source": [
    "[문제1]\n",
    "\n",
    "DBMS 특징이 아닌것을 골라주세요\n",
    "\n",
    "- 데이터 무경성\n",
    "- 데이터 보안성\n",
    "- 데이터 일관성\n",
    "- 데이터 의존성"
   ]
  },
  {
   "cell_type": "markdown",
   "metadata": {},
   "source": [
    "정답 :데이터 의존성\n"
   ]
  },
  {
   "cell_type": "markdown",
   "metadata": {},
   "source": [
    "[문제2]\n",
    "\n",
    "아래 설명에 해당하는 데이터 모델을 골라주세요\n",
    "\n",
    "```\n",
    "표 형태로 데이터를 저장하고 SQL을 사용하여 데이터를 조작합니다. \n",
    "가장 널리 사용되는 데이터 모델 중 하나이며 RDBMS에서 지원합니다.\n",
    "```\n",
    "\n",
    "- 관계형 데이터 모델\n",
    "- 객체 지향형 데이터 모델\n",
    "- 계층형 데이터 모델\n",
    "- 네트워크형 데이터 모델"
   ]
  },
  {
   "cell_type": "markdown",
   "metadata": {},
   "source": [
    "정답: 관계형 데이터 모델 (Relational Data Model): 데이터가 표(테이블) 형태로 저장되고, SQL(Structured Query Language)을 사용하여 데이터를 조작합니다. 이는 가장 널리 사용되는 데이터 모델 중 하나이며, RDBMS(관계형 데이터베이스 관리 시스템)에서 지원합니다."
   ]
  },
  {
   "cell_type": "markdown",
   "metadata": {},
   "source": [
    "[문제3]\n",
    "\n",
    "데이터베이스의 구조를 정의하는 것을 골라주세요\n",
    "\n",
    "- 인덱스\n",
    "- 트랜잭션\n",
    "- 스키마\n",
    "- SQL"
   ]
  },
  {
   "cell_type": "markdown",
   "metadata": {},
   "source": [
    "정답 : 스키마: 데이터베이스의 구조를 정의합니다. 스키마는 데이터베이스의 테이블, 열, 관계, 제약 조건 등을 명세합니다. 즉, 데이터베이스의 논리적 구조를 설계하고 정의하는 역할을 합니다."
   ]
  },
  {
   "cell_type": "markdown",
   "metadata": {},
   "source": [
    "[문제4]\n",
    "\n",
    "RDBMS의 대표적인 단점이 아닌것을 골라주세요\n",
    "\n",
    "- 실시간 데이터 처리의 어려움\n",
    "- 운영 비용이 비쌈\n",
    "- 테이블 join의 복잡성\n",
    "- 미리 만들어진 스키마 구조를 변경 또는 확장하는데 어려움\n",
    "- 대량의 데이터를 저장하는게 어려움"
   ]
  },
  {
   "cell_type": "markdown",
   "metadata": {},
   "source": [
    "정답 : 미리 만들어진 스키마 구조를 변경 또는 확장하는데 어려움: 전통적인 RDBMS는 스키마 변경이나 확장이 어려울 수 있지만, 현대의 RDBMS는 이러한 문제를 해결하기 위해 다양한 도구와 방법을 제공합니다. 예를 들어, 데이터베이스 관리 도구와 SQL 명령어를 통해 스키마를 변경하고 확장하는 것이 가능합니다. 물론, 스키마 변경은 데이터베이스 성능에 영향을 미칠 수 있지만, 이는 RDBMS의 단점으로 분류되지 않는 경우가 많습니다."
   ]
  },
  {
   "cell_type": "markdown",
   "metadata": {},
   "source": [
    "[문제5]\n",
    "\n",
    "RDBMS의 구성 요소 중 고유한 값을 나타내는 것을 골라주세요\n",
    "\n",
    "- column\n",
    "- row\n",
    "- FK\n",
    "- PK"
   ]
  },
  {
   "cell_type": "markdown",
   "metadata": {},
   "source": [
    "정답 : PK (Primary Key): 각 레코드(행)를 유일하게 식별하는 열(컬럼)입니다. 테이블의 각 행을 고유하게 식별하며, 중복된 값이 있을 수 없습니다. 기본 키는 데이터베이스의 무결성을 유지하는 중요한 요소입니다."
   ]
  },
  {
   "cell_type": "markdown",
   "metadata": {},
   "source": [
    "[문제6]\n",
    "\n",
    "대표적인 RDBMS가 아닌것을 골라주세요\n",
    "\n",
    "- SQLite\n",
    "- Oracle Database\n",
    "- PostgreSQL\n",
    "- Firebase"
   ]
  },
  {
   "cell_type": "markdown",
   "metadata": {},
   "source": [
    "정답 : Firebase: Google에서 제공하는 클라우드 기반 플랫폼으로, NoSQL 데이터베이스인 Firebase Realtime Database와 Cloud Firestore를 포함합니다. 관계형 데이터베이스가 아닌, 비관계형(NoSQL) 데이터베이스 시스템입니다."
   ]
  },
  {
   "cell_type": "markdown",
   "metadata": {},
   "source": [
    "[문제7]\n",
    "\n",
    "물리적 스키마란 무엇을 의마하는지 골라주세요\n",
    "\n",
    "- 데이터베이스 논리적 구조\n",
    "- 데이터베이스 물리적 저장 방식\n",
    "- 데이터베이스 사용자 뷰\n",
    "- 데이터베이스의 엑세스 권한"
   ]
  },
  {
   "cell_type": "markdown",
   "metadata": {},
   "source": [
    "정답 : 데이터베이스 물리적 저장 방식: `물리적 스키마는 데이터베이스가 디스크에 어떻게 저장되는지를 정의합니다. 즉, 데이터가 실제로 저장되는 방법, 파일 구조, 인덱스 구조, 저장 장치의 배치 등을 포함합니다. 이는 데이터베이스의 물리적인 저장 방식과 관련이 있습니다."
   ]
  },
  {
   "cell_type": "markdown",
   "metadata": {},
   "source": [
    "[문제8]\n",
    "\n",
    "SQL 언어에 해당하지 않는 것을 골라주세요\n",
    "\n",
    "- 데이터 처리 언어(DML)\n",
    "- 데이터 제어 언어(DCL)\n",
    "- 데이터 연결 언어(DCL)\n",
    "- 데이터 정의 언어(DDL)"
   ]
  },
  {
   "cell_type": "markdown",
   "metadata": {},
   "source": [
    "정답 : 데이터 연결 언어(DCL): 이 항목은 잘못된 용어입니다. \"DCL\"은 데이터 제어 언어(Data Control Language)로, 데이터베이스의 접근 권한을 제어하는 SQL 명령어들을 포함합니다. 데이터 연결 언어는 SQL의 표준 용어에 포함되지 않습니다."
   ]
  },
  {
   "cell_type": "markdown",
   "metadata": {},
   "source": [
    "[문제9]\n",
    "\n",
    "데이터 처리 언어(DML)의 설명으로 틀린것을 골라주세요\n",
    "\n",
    "- select : 데이터베이스에서 정보를 검색\n",
    "- insert : 새로운 데이터를 테이블에 삽입\n",
    "- count : 테이블의 데이터 개수 확인\n",
    "- delete : 테이블에서 데이터를 삭제"
   ]
  },
  {
   "cell_type": "markdown",
   "metadata": {},
   "source": [
    "정답 : count: COUNT는 SQL 함수로, 데이터 처리 언어(DML)의 명령어가 아니라 집계 함수입니다. COUNT는 특정 열의 데이터 개수를 계산합니다. 예를 들어, SELECT COUNT(*) FROM table_name은 테이블의 전체 행 수를 반환합니다. 따라서 COUNT는 DML 명령어가 아니라 집계 함수입니다."
   ]
  },
  {
   "cell_type": "markdown",
   "metadata": {},
   "source": [
    "[문제10]\n",
    "\n",
    "데이터 제어 언어(DCL)인 GRANT에 대한 설명으로 옳은 것을 골라주세요\n",
    "\n",
    "- 사용자에게 특정 작업을 수행할 권한을 부여한다.\n",
    "- 사용자로부터 특정 작업 수행 권항을 제거한다.\n",
    "- 다른 사용자에게 동일한 권한을 전달할때 사용한다.\n",
    "- 부여된 권한 중 일부를 제한할때 사용한다."
   ]
  },
  {
   "cell_type": "markdown",
   "metadata": {},
   "source": [
    "정답 :  사용자에게 특정 작업을 수행할 권한을 부여한다."
   ]
  }
 ],
 "metadata": {
  "language_info": {
   "name": "python"
  }
 },
 "nbformat": 4,
 "nbformat_minor": 2
}
